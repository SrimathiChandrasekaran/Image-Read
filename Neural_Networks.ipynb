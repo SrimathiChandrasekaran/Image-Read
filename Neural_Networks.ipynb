{
  "nbformat": 4,
  "nbformat_minor": 0,
  "metadata": {
    "colab": {
      "name": "Course 1 - Part 2 - Lesson 2 - Notebook.ipynb",
      "version": "0.3.2",
      "provenance": [],
      "machine_shape": "hm",
      "include_colab_link": true
    },
    "kernelspec": {
      "name": "python3",
      "display_name": "Python 3"
    },
    "language_info": {
      "codemirror_mode": {
        "name": "ipython",
        "version": 3
      },
      "file_extension": ".py",
      "mimetype": "text/x-python",
      "name": "python",
      "nbconvert_exporter": "python",
      "pygments_lexer": "ipython3",
      "version": "3.6.8"
    },
    "accelerator": "GPU"
  },
  "cells": [
    {
      "cell_type": "markdown",
      "metadata": {
        "id": "view-in-github",
        "colab_type": "text"
      },
      "source": [
        "<a href=\"https://colab.research.google.com/github/mohanrajmit/Image-Read/blob/master/Neural_Networks.ipynb\" target=\"_parent\"><img src=\"https://colab.research.google.com/assets/colab-badge.svg\" alt=\"Open In Colab\"/></a>"
      ]
    },
    {
      "cell_type": "code",
      "metadata": {
        "colab_type": "code",
        "id": "X9uIpOS2zx7k",
        "colab": {}
      },
      "source": [
        "import tensorflow as tf\n",
        "import numpy as np\n",
        "from tensorflow import keras"
      ],
      "execution_count": 0,
      "outputs": []
    },
    {
      "cell_type": "markdown",
      "metadata": {
        "colab_type": "text",
        "id": "wwJGmDrQ0EoB"
      },
      "source": [
        "## Define and Compile the Neural Network\n",
        "\n",
        "Next we will create the simplest possible neural network. It has 1 layer, and that layer has 1 neuron, and the input shape to it is just 1 value."
      ]
    },
    {
      "cell_type": "code",
      "metadata": {
        "colab_type": "code",
        "id": "kQFAr_xo0M4T",
        "outputId": "f42c62fc-9d80-4a61-87a9-1a6651b2cfdd",
        "colab": {
          "base_uri": "https://localhost:8080/",
          "height": 104
        }
      },
      "source": [
        "model = tf.keras.Sequential([keras.layers.Dense(units=1, input_shape=[1])])"
      ],
      "execution_count": 3,
      "outputs": [
        {
          "output_type": "stream",
          "text": [
            "WARNING: Logging before flag parsing goes to stderr.\n",
            "W0819 05:06:12.786710 139650621679488 deprecation.py:506] From /usr/local/lib/python3.6/dist-packages/tensorflow/python/ops/init_ops.py:1251: calling VarianceScaling.__init__ (from tensorflow.python.ops.init_ops) with dtype is deprecated and will be removed in a future version.\n",
            "Instructions for updating:\n",
            "Call initializer instance with the dtype argument instead of passing it to the constructor\n"
          ],
          "name": "stderr"
        }
      ]
    },
    {
      "cell_type": "code",
      "metadata": {
        "colab_type": "code",
        "id": "m8YQN1H41L-Y",
        "colab": {}
      },
      "source": [
        "model.compile(optimizer='sgd', loss='mean_squared_error')"
      ],
      "execution_count": 0,
      "outputs": []
    },
    {
      "cell_type": "code",
      "metadata": {
        "colab_type": "code",
        "id": "4Dxk4q-jzEy4",
        "colab": {}
      },
      "source": [
        "xs = np.array([-1.0,  0.0, 1.0, 2.0, 3.0, 4.0], dtype=float)\n",
        "ys = np.array([-3.0, -1.0, 1.0, 3.0, 5.0, 7.0], dtype=float)"
      ],
      "execution_count": 0,
      "outputs": []
    },
    {
      "cell_type": "markdown",
      "metadata": {
        "colab_type": "text",
        "id": "n_YcWRElnM_b"
      },
      "source": [
        "# Training the Neural Network"
      ]
    },
    {
      "cell_type": "code",
      "metadata": {
        "colab_type": "code",
        "id": "lpRrl7WK10Pq",
        "outputId": "2b817033-b37d-486a-b4c6-e2488f7d6295",
        "colab": {
          "base_uri": "https://localhost:8080/",
          "height": 1000
        }
      },
      "source": [
        "model.fit(xs, ys, epochs=50)"
      ],
      "execution_count": 6,
      "outputs": [
        {
          "output_type": "stream",
          "text": [
            "Epoch 1/50\n",
            "6/6 [==============================] - 4s 608ms/sample - loss: 20.6036\n",
            "Epoch 2/50\n",
            "6/6 [==============================] - 0s 510us/sample - loss: 16.4792\n",
            "Epoch 3/50\n",
            "6/6 [==============================] - 0s 373us/sample - loss: 13.2288\n",
            "Epoch 4/50\n",
            "6/6 [==============================] - 0s 344us/sample - loss: 10.6662\n",
            "Epoch 5/50\n",
            "6/6 [==============================] - 0s 291us/sample - loss: 8.6447\n",
            "Epoch 6/50\n",
            "6/6 [==============================] - 0s 268us/sample - loss: 7.0491\n",
            "Epoch 7/50\n",
            "6/6 [==============================] - 0s 350us/sample - loss: 5.7886\n",
            "Epoch 8/50\n",
            "6/6 [==============================] - 0s 280us/sample - loss: 4.7920\n",
            "Epoch 9/50\n",
            "6/6 [==============================] - 0s 312us/sample - loss: 4.0030\n",
            "Epoch 10/50\n",
            "6/6 [==============================] - 0s 227us/sample - loss: 3.3775\n",
            "Epoch 11/50\n",
            "6/6 [==============================] - 0s 422us/sample - loss: 2.8806\n",
            "Epoch 12/50\n",
            "6/6 [==============================] - 0s 377us/sample - loss: 2.4852\n",
            "Epoch 13/50\n",
            "6/6 [==============================] - 0s 276us/sample - loss: 2.1695\n",
            "Epoch 14/50\n",
            "6/6 [==============================] - 0s 257us/sample - loss: 1.9168\n",
            "Epoch 15/50\n",
            "6/6 [==============================] - 0s 347us/sample - loss: 1.7137\n",
            "Epoch 16/50\n",
            "6/6 [==============================] - 0s 337us/sample - loss: 1.5496\n",
            "Epoch 17/50\n",
            "6/6 [==============================] - 0s 245us/sample - loss: 1.4164\n",
            "Epoch 18/50\n",
            "6/6 [==============================] - 0s 268us/sample - loss: 1.3076\n",
            "Epoch 19/50\n",
            "6/6 [==============================] - 0s 258us/sample - loss: 1.2180\n",
            "Epoch 20/50\n",
            "6/6 [==============================] - 0s 385us/sample - loss: 1.1436\n",
            "Epoch 21/50\n",
            "6/6 [==============================] - 0s 449us/sample - loss: 1.0813\n",
            "Epoch 22/50\n",
            "6/6 [==============================] - 0s 249us/sample - loss: 1.0285\n",
            "Epoch 23/50\n",
            "6/6 [==============================] - 0s 242us/sample - loss: 0.9833\n",
            "Epoch 24/50\n",
            "6/6 [==============================] - 0s 321us/sample - loss: 0.9442\n",
            "Epoch 25/50\n",
            "6/6 [==============================] - 0s 313us/sample - loss: 0.9100\n",
            "Epoch 26/50\n",
            "6/6 [==============================] - 0s 310us/sample - loss: 0.8796\n",
            "Epoch 27/50\n",
            "6/6 [==============================] - 0s 312us/sample - loss: 0.8523\n",
            "Epoch 28/50\n",
            "6/6 [==============================] - 0s 368us/sample - loss: 0.8275\n",
            "Epoch 29/50\n",
            "6/6 [==============================] - 0s 305us/sample - loss: 0.8048\n",
            "Epoch 30/50\n",
            "6/6 [==============================] - 0s 397us/sample - loss: 0.7838\n",
            "Epoch 31/50\n",
            "6/6 [==============================] - 0s 299us/sample - loss: 0.7642\n",
            "Epoch 32/50\n",
            "6/6 [==============================] - 0s 228us/sample - loss: 0.7457\n",
            "Epoch 33/50\n",
            "6/6 [==============================] - 0s 430us/sample - loss: 0.7282\n",
            "Epoch 34/50\n",
            "6/6 [==============================] - 0s 283us/sample - loss: 0.7115\n",
            "Epoch 35/50\n",
            "6/6 [==============================] - 0s 356us/sample - loss: 0.6956\n",
            "Epoch 36/50\n",
            "6/6 [==============================] - 0s 306us/sample - loss: 0.6802\n",
            "Epoch 37/50\n",
            "6/6 [==============================] - 0s 275us/sample - loss: 0.6654\n",
            "Epoch 38/50\n",
            "6/6 [==============================] - 0s 302us/sample - loss: 0.6511\n",
            "Epoch 39/50\n",
            "6/6 [==============================] - 0s 259us/sample - loss: 0.6372\n",
            "Epoch 40/50\n",
            "6/6 [==============================] - 0s 293us/sample - loss: 0.6237\n",
            "Epoch 41/50\n",
            "6/6 [==============================] - 0s 316us/sample - loss: 0.6106\n",
            "Epoch 42/50\n",
            "6/6 [==============================] - 0s 262us/sample - loss: 0.5978\n",
            "Epoch 43/50\n",
            "6/6 [==============================] - 0s 471us/sample - loss: 0.5853\n",
            "Epoch 44/50\n",
            "6/6 [==============================] - 0s 431us/sample - loss: 0.5731\n",
            "Epoch 45/50\n",
            "6/6 [==============================] - 0s 289us/sample - loss: 0.5612\n",
            "Epoch 46/50\n",
            "6/6 [==============================] - 0s 257us/sample - loss: 0.5496\n",
            "Epoch 47/50\n",
            "6/6 [==============================] - 0s 308us/sample - loss: 0.5382\n",
            "Epoch 48/50\n",
            "6/6 [==============================] - 0s 304us/sample - loss: 0.5271\n",
            "Epoch 49/50\n",
            "6/6 [==============================] - 0s 291us/sample - loss: 0.5162\n",
            "Epoch 50/50\n",
            "6/6 [==============================] - 0s 418us/sample - loss: 0.5056\n"
          ],
          "name": "stdout"
        },
        {
          "output_type": "execute_result",
          "data": {
            "text/plain": [
              "<tensorflow.python.keras.callbacks.History at 0x7f02a2b6fc88>"
            ]
          },
          "metadata": {
            "tags": []
          },
          "execution_count": 6
        }
      ]
    },
    {
      "cell_type": "code",
      "metadata": {
        "colab_type": "code",
        "id": "oxNzL4lS2Gui",
        "outputId": "5c2d9b90-f1a5-466e-a194-01e7b523ad62",
        "colab": {
          "base_uri": "https://localhost:8080/",
          "height": 34
        }
      },
      "source": [
        "print(model.predict([20.0]))"
      ],
      "execution_count": 7,
      "outputs": [
        {
          "output_type": "stream",
          "text": [
            "[[33.830723]]\n"
          ],
          "name": "stdout"
        }
      ]
    },
    {
      "cell_type": "code",
      "metadata": {
        "id": "ws14usY1RPzo",
        "colab_type": "code",
        "colab": {}
      },
      "source": [
        ""
      ],
      "execution_count": 0,
      "outputs": []
    }
  ]
}